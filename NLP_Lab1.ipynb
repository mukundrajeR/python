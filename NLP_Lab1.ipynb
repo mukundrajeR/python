{
 "cells": [
  {
   "cell_type": "code",
   "execution_count": 1,
   "id": "ea8ae28b",
   "metadata": {},
   "outputs": [
    {
     "name": "stdout",
     "output_type": "stream",
     "text": [
      "Requirement already satisfied: nltk in c:\\users\\he336\\anaconda3\\lib\\site-packages (3.7)\n",
      "Requirement already satisfied: joblib in c:\\users\\he336\\anaconda3\\lib\\site-packages (from nltk) (1.1.0)\n",
      "Requirement already satisfied: tqdm in c:\\users\\he336\\anaconda3\\lib\\site-packages (from nltk) (4.64.0)\n",
      "Requirement already satisfied: regex>=2021.8.3 in c:\\users\\he336\\anaconda3\\lib\\site-packages (from nltk) (2022.3.15)\n",
      "Requirement already satisfied: click in c:\\users\\he336\\anaconda3\\lib\\site-packages (from nltk) (8.0.4)\n",
      "Requirement already satisfied: colorama in c:\\users\\he336\\anaconda3\\lib\\site-packages (from click->nltk) (0.4.4)\n"
     ]
    }
   ],
   "source": [
    "!pip install nltk"
   ]
  },
  {
   "cell_type": "code",
   "execution_count": 2,
   "id": "54677c3b",
   "metadata": {},
   "outputs": [],
   "source": [
    "import nltk\n",
    "from nltk.stem import PorterStemmer\n",
    "from nltk.corpus import stopwords\n",
    "import re"
   ]
  },
  {
   "cell_type": "code",
   "execution_count": 3,
   "id": "89677574",
   "metadata": {},
   "outputs": [],
   "source": [
    "paragraph=\"\"\"NLTK is a leading \"platform\" for building Python programs to work with human language data. It provides easy-to-use interfaces to over 50 corpora and lexical resources such as WordNet, along with a suite of text processing libraries for classification, tokenization, stemming, tagging, parsing, and semantic reasoning, wrappers for industrial-strength NLP libraries, and an active discussion forum.\n",
    "\n",
    "Thanks to a hands-on guide introducing programming fundamentals alongside topics in computational linguistics, plus comprehensive API documentation, NLTK is suitable for linguists, engineers, students, educators, researchers, and industry users alike. NLTK is available for Windows, Mac OS X, and Linux. Best of all, NLTK is a free, open source, community-driven project.\n",
    "\n",
    "NLTK has been called “a wonderful tool for teaching, and working in, computational linguistics using Python,” and “an amazing library to play with natural language.\"\"\""
   ]
  },
  {
   "cell_type": "code",
   "execution_count": 4,
   "id": "eac00a9b",
   "metadata": {},
   "outputs": [],
   "source": [
    "paragraph=paragraph.lower()"
   ]
  },
  {
   "cell_type": "code",
   "execution_count": 5,
   "id": "101fd0ab",
   "metadata": {
    "scrolled": true
   },
   "outputs": [
    {
     "name": "stdout",
     "output_type": "stream",
     "text": [
      "nltk is a leading \"platform\" for building python programs to work with human language data. it provides easy-to-use interfaces to over 50 corpora and lexical resources such as wordnet, along with a suite of text processing libraries for classification, tokenization, stemming, tagging, parsing, and semantic reasoning, wrappers for industrial-strength nlp libraries, and an active discussion forum.\n",
      "\n",
      "thanks to a hands-on guide introducing programming fundamentals alongside topics in computational linguistics, plus comprehensive api documentation, nltk is suitable for linguists, engineers, students, educators, researchers, and industry users alike. nltk is available for windows, mac os x, and linux. best of all, nltk is a free, open source, community-driven project.\n",
      "\n",
      "nltk has been called “a wonderful tool for teaching, and working in, computational linguistics using python,” and “an amazing library to play with natural language.\n"
     ]
    }
   ],
   "source": [
    "print(paragraph)"
   ]
  },
  {
   "cell_type": "code",
   "execution_count": 6,
   "id": "612aa716",
   "metadata": {},
   "outputs": [],
   "source": [
    "#stopwords.words('english')"
   ]
  },
  {
   "cell_type": "code",
   "execution_count": 7,
   "id": "eeb71a64",
   "metadata": {},
   "outputs": [],
   "source": [
    "sentences=nltk.sent_tokenize(paragraph)\n",
    "stemmer=PorterStemmer()"
   ]
  },
  {
   "cell_type": "code",
   "execution_count": 8,
   "id": "bc888c27",
   "metadata": {},
   "outputs": [],
   "source": [
    "# stemming\n",
    "for i in range(len(sentences)):\n",
    "    words=nltk.word_tokenize(sentences[i])\n",
    "    words=[stemmer.stem(word) for word in words]\n",
    "    sentences[i]=' '.join(words)"
   ]
  },
  {
   "cell_type": "code",
   "execution_count": 9,
   "id": "bc3af04a",
   "metadata": {},
   "outputs": [
    {
     "data": {
      "text/plain": [
       "[\"nltk is a lead `` platform '' for build python program to work with human languag data .\",\n",
       " 'it provid easy-to-us interfac to over 50 corpora and lexic resourc such as wordnet , along with a suit of text process librari for classif , token , stem , tag , pars , and semant reason , wrapper for industrial-strength nlp librari , and an activ discuss forum .',\n",
       " 'thank to a hands-on guid introduc program fundament alongsid topic in comput linguist , plu comprehens api document , nltk is suitabl for linguist , engin , student , educ , research , and industri user alik .',\n",
       " 'nltk is avail for window , mac os x , and linux .',\n",
       " 'best of all , nltk is a free , open sourc , community-driven project .',\n",
       " 'nltk ha been call “ a wonder tool for teach , and work in , comput linguist use python , ” and “ an amaz librari to play with natur languag .']"
      ]
     },
     "execution_count": 9,
     "metadata": {},
     "output_type": "execute_result"
    }
   ],
   "source": [
    "sentences"
   ]
  },
  {
   "cell_type": "code",
   "execution_count": 10,
   "id": "0041e8c3",
   "metadata": {},
   "outputs": [],
   "source": [
    "for i in range(len(sentences)):\n",
    "    words=nltk.word_tokenize(sentences[i])\n",
    "    words_stemmer=[word for word in words if word not in(stopwords.words('english'))]\n",
    "    sentences[i]=' '.join(words)"
   ]
  },
  {
   "cell_type": "code",
   "execution_count": 11,
   "id": "3dc384c9",
   "metadata": {},
   "outputs": [
    {
     "data": {
      "text/plain": [
       "['nltk is a lead `` platform `` for build python program to work with human languag data .',\n",
       " 'it provid easy-to-us interfac to over 50 corpora and lexic resourc such as wordnet , along with a suit of text process librari for classif , token , stem , tag , pars , and semant reason , wrapper for industrial-strength nlp librari , and an activ discuss forum .',\n",
       " 'thank to a hands-on guid introduc program fundament alongsid topic in comput linguist , plu comprehens api document , nltk is suitabl for linguist , engin , student , educ , research , and industri user alik .',\n",
       " 'nltk is avail for window , mac os x , and linux .',\n",
       " 'best of all , nltk is a free , open sourc , community-driven project .',\n",
       " 'nltk ha been call “ a wonder tool for teach , and work in , comput linguist use python , ” and “ an amaz librari to play with natur languag .']"
      ]
     },
     "execution_count": 11,
     "metadata": {},
     "output_type": "execute_result"
    }
   ],
   "source": [
    "sentences"
   ]
  },
  {
   "cell_type": "code",
   "execution_count": 12,
   "id": "dcbc7570",
   "metadata": {},
   "outputs": [
    {
     "data": {
      "text/plain": [
       "'natur'"
      ]
     },
     "execution_count": 12,
     "metadata": {},
     "output_type": "execute_result"
    }
   ],
   "source": [
    "stemmer.stem('natural')"
   ]
  },
  {
   "cell_type": "code",
   "execution_count": 13,
   "id": "03571497",
   "metadata": {},
   "outputs": [],
   "source": [
    "# Lemmatization example\n",
    "from nltk.stem import WordNetLemmatizer\n",
    "lemmatizer=WordNetLemmatizer()"
   ]
  },
  {
   "cell_type": "code",
   "execution_count": 14,
   "id": "4b1b9a2a",
   "metadata": {},
   "outputs": [],
   "source": [
    "# Lemmatization\n",
    "for i in range(len(sentences)):\n",
    "    words=nltk.word_tokenize(sentences[i])\n",
    "    words=[lemmatizer.lemmatize(word) for word in words]\n",
    "    sentences[i]=' '.join(words)"
   ]
  },
  {
   "cell_type": "code",
   "execution_count": 15,
   "id": "8443ee1d",
   "metadata": {},
   "outputs": [
    {
     "data": {
      "text/plain": [
       "['nltk is a lead `` platform `` for build python program to work with human languag data .',\n",
       " 'it provid easy-to-us interfac to over 50 corpus and lexic resourc such a wordnet , along with a suit of text process librari for classif , token , stem , tag , par , and semant reason , wrapper for industrial-strength nlp librari , and an activ discus forum .',\n",
       " 'thank to a hands-on guid introduc program fundament alongsid topic in comput linguist , plu comprehens api document , nltk is suitabl for linguist , engin , student , educ , research , and industri user alik .',\n",
       " 'nltk is avail for window , mac o x , and linux .',\n",
       " 'best of all , nltk is a free , open sourc , community-driven project .',\n",
       " 'nltk ha been call “ a wonder tool for teach , and work in , comput linguist use python , ” and “ an amaz librari to play with natur languag .']"
      ]
     },
     "execution_count": 15,
     "metadata": {},
     "output_type": "execute_result"
    }
   ],
   "source": [
    "sentences"
   ]
  },
  {
   "cell_type": "code",
   "execution_count": 16,
   "id": "b8abce84",
   "metadata": {},
   "outputs": [],
   "source": [
    "# regular expression for text cleaning\n",
    "import re\n",
    "corpus=[]"
   ]
  },
  {
   "cell_type": "code",
   "execution_count": 17,
   "id": "dde96261",
   "metadata": {},
   "outputs": [],
   "source": [
    "for i in range(len(sentences)):\n",
    "    review=re.sub('[^a-z]', ' ',sentences[i])\n",
    "    review=''.join(review)\n",
    "    corpus.append(review)"
   ]
  },
  {
   "cell_type": "code",
   "execution_count": 18,
   "id": "1f262612",
   "metadata": {},
   "outputs": [
    {
     "data": {
      "text/plain": [
       "['nltk is a lead    platform    for build python program to work with human languag data  ',\n",
       " 'it provid easy to us interfac to over    corpus and lexic resourc such a wordnet   along with a suit of text process librari for classif   token   stem   tag   par   and semant reason   wrapper for industrial strength nlp librari   and an activ discus forum  ',\n",
       " 'thank to a hands on guid introduc program fundament alongsid topic in comput linguist   plu comprehens api document   nltk is suitabl for linguist   engin   student   educ   research   and industri user alik  ',\n",
       " 'nltk is avail for window   mac o x   and linux  ',\n",
       " 'best of all   nltk is a free   open sourc   community driven project  ',\n",
       " 'nltk ha been call   a wonder tool for teach   and work in   comput linguist use python     and   an amaz librari to play with natur languag  ']"
      ]
     },
     "execution_count": 18,
     "metadata": {},
     "output_type": "execute_result"
    }
   ],
   "source": [
    "corpus"
   ]
  },
  {
   "cell_type": "markdown",
   "id": "5347ba1f",
   "metadata": {},
   "source": [
    "# creating the Bag of words model"
   ]
  },
  {
   "cell_type": "code",
   "execution_count": 21,
   "id": "50f2e8af",
   "metadata": {},
   "outputs": [],
   "source": [
    "from sklearn.feature_extraction.text import CountVectorizer\n",
    "cv=CountVectorizer()\n",
    "X=cv.fit_transform(corpus)"
   ]
  },
  {
   "cell_type": "code",
   "execution_count": 24,
   "id": "10e91bc1",
   "metadata": {},
   "outputs": [
    {
     "data": {
      "text/plain": [
       "array([[0, 0, 0, 0, 0, 0, 0, 0, 0, 0, 0, 0, 1, 0, 0, 0, 0, 0, 0, 1, 0, 0,\n",
       "        0, 0, 0, 0, 1, 0, 0, 0, 0, 0, 0, 1, 0, 0, 0, 0, 0, 1, 0, 1, 1, 0,\n",
       "        0, 0, 0, 0, 0, 0, 1, 0, 0, 0, 0, 0, 1, 0, 0, 0, 1, 0, 0, 1, 0, 0,\n",
       "        0, 0, 0, 0, 0, 0, 0, 0, 0, 0, 0, 0, 0, 1, 0, 0, 0, 0, 0, 0, 0, 1,\n",
       "        0, 0, 1, 0],\n",
       "       [1, 0, 0, 1, 0, 0, 1, 3, 0, 0, 0, 0, 0, 0, 1, 0, 0, 0, 1, 0, 1, 0,\n",
       "        0, 1, 0, 0, 2, 1, 0, 0, 0, 0, 0, 0, 0, 0, 1, 1, 0, 0, 1, 0, 0, 1,\n",
       "        2, 0, 0, 0, 0, 1, 0, 1, 0, 0, 1, 1, 0, 0, 0, 1, 0, 0, 1, 0, 1, 0,\n",
       "        1, 1, 0, 1, 1, 0, 1, 1, 0, 1, 0, 1, 0, 2, 1, 0, 0, 1, 0, 0, 0, 1,\n",
       "        0, 1, 0, 1],\n",
       "       [0, 1, 0, 0, 1, 0, 0, 1, 1, 0, 0, 0, 0, 0, 0, 0, 1, 1, 0, 0, 0, 1,\n",
       "        0, 0, 1, 1, 1, 0, 0, 1, 1, 0, 1, 0, 1, 1, 0, 0, 1, 1, 0, 0, 0, 0,\n",
       "        0, 2, 0, 0, 0, 0, 1, 0, 1, 0, 0, 0, 0, 0, 1, 0, 1, 0, 0, 0, 0, 1,\n",
       "        0, 0, 0, 0, 0, 1, 0, 0, 1, 0, 0, 0, 1, 1, 0, 0, 1, 0, 0, 1, 0, 0,\n",
       "        0, 0, 0, 0],\n",
       "       [0, 0, 0, 0, 0, 0, 0, 1, 0, 1, 0, 0, 0, 0, 0, 0, 0, 0, 0, 0, 0, 0,\n",
       "        0, 0, 0, 0, 1, 0, 0, 0, 0, 0, 0, 0, 0, 0, 0, 0, 0, 1, 0, 0, 0, 0,\n",
       "        0, 0, 1, 1, 0, 0, 1, 0, 0, 0, 0, 0, 0, 0, 0, 0, 0, 0, 0, 0, 0, 0,\n",
       "        0, 0, 0, 0, 0, 0, 0, 0, 0, 0, 0, 0, 0, 0, 0, 0, 0, 0, 0, 0, 1, 0,\n",
       "        0, 0, 0, 0],\n",
       "       [0, 0, 1, 0, 0, 0, 0, 0, 0, 0, 0, 1, 0, 0, 0, 1, 0, 0, 0, 0, 0, 0,\n",
       "        1, 0, 0, 0, 0, 0, 1, 0, 0, 0, 0, 0, 0, 0, 0, 0, 0, 1, 0, 0, 0, 0,\n",
       "        0, 0, 0, 0, 0, 0, 1, 1, 0, 1, 0, 0, 0, 0, 0, 0, 0, 1, 0, 0, 0, 0,\n",
       "        0, 0, 1, 0, 0, 0, 0, 0, 0, 0, 0, 0, 0, 0, 0, 0, 0, 0, 0, 0, 0, 0,\n",
       "        0, 0, 0, 0],\n",
       "       [0, 0, 0, 0, 0, 1, 1, 2, 0, 0, 1, 0, 0, 1, 0, 0, 0, 1, 0, 0, 0, 0,\n",
       "        0, 0, 0, 0, 1, 0, 0, 0, 0, 1, 0, 0, 1, 0, 0, 0, 0, 0, 0, 1, 0, 0,\n",
       "        1, 1, 0, 0, 1, 0, 1, 0, 0, 0, 0, 0, 0, 1, 0, 0, 0, 0, 0, 1, 0, 0,\n",
       "        0, 0, 0, 0, 0, 0, 0, 0, 0, 0, 1, 0, 0, 1, 0, 1, 0, 0, 1, 0, 0, 1,\n",
       "        1, 0, 1, 0]], dtype=int64)"
      ]
     },
     "execution_count": 24,
     "metadata": {},
     "output_type": "execute_result"
    }
   ],
   "source": [
    "X.toarray()"
   ]
  }
 ],
 "metadata": {
  "kernelspec": {
   "display_name": "Python 3 (ipykernel)",
   "language": "python",
   "name": "python3"
  },
  "language_info": {
   "codemirror_mode": {
    "name": "ipython",
    "version": 3
   },
   "file_extension": ".py",
   "mimetype": "text/x-python",
   "name": "python",
   "nbconvert_exporter": "python",
   "pygments_lexer": "ipython3",
   "version": "3.9.12"
  }
 },
 "nbformat": 4,
 "nbformat_minor": 5
}
